{
 "cells": [
  {
   "cell_type": "markdown",
   "metadata": {},
   "source": [
    "#Handling the missing DATA in dataset"
   ]
  },
  {
   "cell_type": "code",
   "execution_count": 5,
   "metadata": {},
   "outputs": [
    {
     "name": "stdout",
     "output_type": "stream",
     "text": [
      "   Unnamed: 0 gender  degree_p   degree_t workex  etest_p specialisation  \\\n",
      "0           0      M     58.00   Sci&Tech     No     55.0         Mkt&HR   \n",
      "1           1      M     77.48   Sci&Tech    Yes     86.5        Mkt&Fin   \n",
      "2           2      M     64.00  Comm&Mgmt     No     75.0        Mkt&Fin   \n",
      "3           3      M     52.00   Sci&Tech    NaN     66.0         Mkt&HR   \n",
      "4           4      M     73.30  Comm&Mgmt     No     96.8        Mkt&Fin   \n",
      "\n",
      "   mba_p       salary  \n",
      "0  58.80  270000.0000  \n",
      "1  66.28  200000.0000  \n",
      "2  57.80  250000.0000  \n",
      "3  59.43  288655.4054  \n",
      "4  55.50  425000.0000  \n"
     ]
    }
   ],
   "source": [
    "import pandas as pd\n",
    "import numpy as np\n",
    "df = pd.read_csv(\"../placement.csv\")\n",
    "\n",
    "print(df.head(5))\n"
   ]
  }
 ],
 "metadata": {
  "kernelspec": {
   "display_name": "Python 3",
   "language": "python",
   "name": "python3"
  },
  "language_info": {
   "codemirror_mode": {
    "name": "ipython",
    "version": 3
   },
   "file_extension": ".py",
   "mimetype": "text/x-python",
   "name": "python",
   "nbconvert_exporter": "python",
   "pygments_lexer": "ipython3",
   "version": "3.11.7"
  }
 },
 "nbformat": 4,
 "nbformat_minor": 2
}

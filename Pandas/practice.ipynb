{
 "cells": [
  {
   "cell_type": "markdown",
   "metadata": {},
   "source": [
    "Handling the missing DATA in dataset\n",
    "\n",
    "Methods\n",
    "\n",
    "1. Removing the missing records\n",
    "\n",
    "2. Impute (fill)\n",
    "\n",
    "    i: univariate (handling single column)[Simple Imputer class from scikit learn]\n",
    "\n",
    "        1. numerical \n",
    "            i: mean \n",
    "            ii: median\n",
    "            iii: End of distribution value\n",
    "\n",
    "        2. categorical\n",
    "            i: most frequent value\n",
    "            ii: write missing\n",
    "            \n",
    "    ii: multivariate\n",
    "     \n",
    "        1. KNN imputer\n",
    "        2. Iterative imputer (mice algorithm)\n"
   ]
  },
  {
   "cell_type": "code",
   "execution_count": 6,
   "metadata": {},
   "outputs": [
    {
     "name": "stdout",
     "output_type": "stream",
     "text": [
      "     Unnamed: 0 gender  degree_p   degree_t workex  etest_p specialisation  \\\n",
      "0             0      M     58.00   Sci&Tech     No     55.0         Mkt&HR   \n",
      "1             1      M     77.48   Sci&Tech    Yes     86.5        Mkt&Fin   \n",
      "2             2      M     64.00  Comm&Mgmt     No     75.0        Mkt&Fin   \n",
      "3             3      M     52.00   Sci&Tech    NaN     66.0         Mkt&HR   \n",
      "4             4      M     73.30  Comm&Mgmt     No     96.8        Mkt&Fin   \n",
      "..          ...    ...       ...        ...    ...      ...            ...   \n",
      "210         210      M     77.60  Comm&Mgmt     No     91.0        Mkt&Fin   \n",
      "211         211      M     72.00   Sci&Tech     No     74.0        Mkt&Fin   \n",
      "212         212      M     73.00  Comm&Mgmt    Yes     59.0        Mkt&Fin   \n",
      "213         213      F     58.00  Comm&Mgmt     No      NaN         Mkt&HR   \n",
      "214         214      M     53.00  Comm&Mgmt     No     89.0         Mkt&HR   \n",
      "\n",
      "     mba_p       salary  \n",
      "0    58.80  270000.0000  \n",
      "1    66.28  200000.0000  \n",
      "2    57.80  250000.0000  \n",
      "3    59.43  288655.4054  \n",
      "4    55.50  425000.0000  \n",
      "..     ...          ...  \n",
      "210  74.49  400000.0000  \n",
      "211  53.62  275000.0000  \n",
      "212  69.72  295000.0000  \n",
      "213  60.23  204000.0000  \n",
      "214  60.22  288655.4054  \n",
      "\n",
      "[215 rows x 9 columns]\n"
     ]
    }
   ],
   "source": [
    "import pandas as pd\n",
    "import numpy as np\n",
    "df = pd.read_csv(\"../placement.csv\")\n",
    "print(df)\n"
   ]
  }
 ],
 "metadata": {
  "kernelspec": {
   "display_name": "Python 3",
   "language": "python",
   "name": "python3"
  },
  "language_info": {
   "codemirror_mode": {
    "name": "ipython",
    "version": 3
   },
   "file_extension": ".py",
   "mimetype": "text/x-python",
   "name": "python",
   "nbconvert_exporter": "python",
   "pygments_lexer": "ipython3",
   "version": "3.11.7"
  }
 },
 "nbformat": 4,
 "nbformat_minor": 2
}
